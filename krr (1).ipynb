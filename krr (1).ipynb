{
 "cells": [
  {
   "cell_type": "markdown",
   "metadata": {},
   "source": [
    "<h1>Kernelized Ridge Regression using Linear, Polynomial </h1>"
   ]
  },
  {
   "attachments": {},
   "cell_type": "markdown",
   "metadata": {},
   "source": [
    "RR（Ridge Regression，岭回归）\t\t\t\t\t\t\t\t\t\t\t\t\t\t\t\t\t\t\t\t\t\t\t\t\t\n",
    "问题： 最小二乘法当数据集合存在多重线性（病态矩阵）时，计算出的 w数值很大，使得在线性模型  $y=w^T$中，当输入变量 x 有微小变动时，输出变量 y 就会很大。即该线性回归模型对 x  的噪音很敏感。\t\t\t\t\t\t\t\t\t\t\t\t\t\t\t\t\t\t\t\t\t\t\t\t\t\n",
    "解决思路： 限制参数 w  的大小，使其不会变的很大，减少对噪音的敏感度。在原来回归模型的基础上加一个惩罚项，称为正则化（Regularization）。\t\t\t\t\t\t\t\t\t\t\t\t\t\t\t\t\t\t\t\t\t\t\t\t\t\n",
    "1. LASSO（Least absolute shrinkage and selection operator）回归： 惩罚项是 w  的 $ l_1 $ 范数，如下式。\t\t\t\t\t\t\t\t\t\t\t\t\t\t\t\t\t\t\t\t\t\t\t\t\t\n",
    "$J(w)=(y-Xw)^2+\\lambda||w||_1 \\ \\ \\ \\ \\ \\ \\ (1) $\t\t\t\t\t\t\t\t\t\t\t\t\t\t\t\t\t\t\t\t\t\t\t\n",
    "2. 岭回归： 惩罚项是 w  的 $ l_2 $范数，如下式。\t\t\t\t\t\t\t\t\t\t\t\t\t\t\t\t\t\t\t\t\t\t\t\t\t\n",
    "$ J(w)=(y-Xw)^2+\\lambda||w||_2^2 \\ \\ \\ \\ \\ \\ \\ (2) $\t\t\t\t\t\t\t\t\t\t\t\t\t\t\t\t\t\t\t\t\t\t\t\t\n",
    "将 J ( w ) J(w) J(w) 对 w w w 求导数等于0，得到\t\t\t\t\t\t\t\t\t\t\t\t\t\t\t\t\t\t\t\t\t\t\t\t\t\n",
    "$J'(w)=-2X^T(y-Xw)+2\\lambda w=0 \\ \\ \\ \\ \\ \\ \\ (3) $\t\t\t\t\t\t\t\t\t\t\t\t\t\t\n",
    "解得:\t\t\t\t\t\t\t\t\t\t\t\t\t\t\t\t\t\t\t\t\t\t\t\t\t\n",
    "$ w=(X^TX+\\lambda I)^{-1}X^Ty \\ \\ \\ \\ \\ \\ \\ (4) $\t\t\t\t\t\t\t\t\t\t\t\t\t\t\t\t\t\t\t\t\t\t\t\t\n",
    "KRR（Kernal Ridge Regression，核岭回归）\t\t\t\t\t\t\t\t\t\t\t\t\t\t\t\t\t\t\t\t\t\t\t\t\t\n",
    "改进的问题： RR只能处理线性数据，引入核函数后，能够处理非线性数据，将数据映射到某一个核空间，使得数据在这个核空间上线性可分。\t\t\t\t\t\t\t\t\t\t\t\t\t\t\t\t\t\t\t\t\t\t\t\t\t\n",
    "推导过程： 由于公式(4)的有一项X没有办法写成内积的形式，因此使用矩阵求逆引理（Matrix inversion lemma）推导得到如下公式。\t\t\t\t\t\t\t\t\t\t\t\t\t\t\t\t\t\t\t\t\t\t\t\t\t\n",
    "$ w=X^T(XX^T+\\lambda I_N)^{-1}y \\ \\ \\ \\ \\ \\ \\ (5) $\t\t\t\t\t\t\t\t\t\t\t\t\t\t\t\t\t\t\t\t\t\t\t\t\t\n",
    "下面将其kernal化，令对偶变量 $α  = (K+ \\lambda I_N)^{-1}y $，其中$ K =XX^T $，\n",
    "可写为 $ w=X^T\\alpha=\\sum_{i=1}^N \\alpha _i x_i $于是，对于一个新样本 $x^*$，可通过下式预测$ y^* $ :\t\t\t\t\t\t\t\t\t\t\t\t\t\t\t\t\t\t\t\t\t\t\t\t\n",
    "$y^*=w^Tx^*=\\sum_{i=1}^N\\alpha_ix_i^Tx^*=\\sum_{i=1}^N\\alpha_ik(x^*,x_i) \\ \\ \\ \\ \\ \\ \\ (6) $\t\t\t\t\t\t\t\t\t\t\t\t\t\t\t\t\t\t\t\t\t\t\t\t\t"
   ]
  },
  {
   "cell_type": "markdown",
   "metadata": {},
   "source": [
    "##  直接从希尔伯特空间看\n",
    "在高维空间拟合 $f(\\hat{x})=\\sum_{i=1}^{n} \\alpha_{i} k\\left(x_{i}, x\\right)$  <br>\n",
    "已经有的数据是 $\\left\\{x_{i}, f_{i}\\right\\}(i=1, \\cdots, n)$, 于是我们寻找合适的参数 $\\vec{\\alpha}$ 来最小化  <br>\n",
    "$\\sum_{j=1}^{n}\\left\\|f_{j}-\\sum_{i=1}^{n} \\alpha_{j} k\\left(x_{i}, x_{j}\\right)\\right\\|^{2}$  <br>\n",
    "加入正则化项 , 即 $\\lambda\\|f\\|_{\\mathscr{H}}^{2}=\\lambda \\alpha^{T} K \\alpha\\left(K\\right.$ 是矩阵, $\\left.K_{i j}=k\\left(x_{i}, x_{j}\\right), \\lambda>0\\right)$, <br>\n",
    "整个\n",
    "优化目标变成<br>\n",
    "$\\sum_{j=1}^{n}\\left\\|f_{j}-\\sum_{i=1}^{n} \\alpha_{j} k\\left(x_{i}, x_{j}\\right)\\right\\|^{2}+\\lambda \\alpha^{T} K \\alpha$<br>\n",
    "最优解为 $\\alpha=(K+\\lambda I)^{-1} y$ 。"
   ]
  },
  {
   "cell_type": "code",
   "execution_count": 11,
   "metadata": {},
   "outputs": [],
   "source": [
    "from sklearn.model_selection import KFold\n",
    "import pandas as pd\n",
    "from csv import reader\n",
    "import csv\n",
    "from sklearn.metrics import accuracy_score\n",
    "import numpy as np\n",
    "from sklearn.model_selection import train_test_split\n",
    "from sklearn.model_selection import KFold, cross_val_score\n",
    "import matplotlib.pyplot as plt\n",
    "from sklearn.metrics import confusion_matrix, accuracy_score\n",
    "from sklearn.metrics import mean_squared_error\n",
    "from scipy.spatial.distance import pdist,squareform\n",
    "from numpy import exp\n",
    "from math import sqrt"
   ]
  },
  {
   "cell_type": "markdown",
   "metadata": {},
   "source": [
    "Loading the data set\n",
    "\n",
    "For our implementation, we have split the dataset set into two CSV files:\n",
    "\n",
    "1) predictors.csv - contains all the predictor variables (each column represents single predictor variable).   Currently, we are considering 7 predictor varibles\n",
    "\n",
    "2) response.csv - contains only response variables."
   ]
  },
  {
   "cell_type": "code",
   "execution_count": 12,
   "metadata": {},
   "outputs": [
    {
     "name": "stdout",
     "output_type": "stream",
     "text": [
      "(1000, 7)\n",
      "(1000, 1)\n"
     ]
    }
   ],
   "source": [
    "import os\n",
    "os.chdir(r\"E:\\2021秋学期\\论文学习\\论文学习\\Kernelized-Ridge-Regression-master\\Kernelized-Ridge-Regression-master\")\n",
    "XMat = pd.read_csv('predictors.csv')\n",
    "XmatrixInti = XMat.values\n",
    "\n",
    "'''We have consiered then convert thus obtained data matrix into Dataframes using pandas library '''\n",
    "X = pd.DataFrame(XmatrixInti)\n",
    "X=X[:1000]\n",
    "\n",
    "print(X.shape)\n",
    "\n",
    "Y= pd.read_csv('response.csv')\n",
    "Y=Y[:1000]\n",
    "print(Y.shape)"
   ]
  },
  {
   "cell_type": "markdown",
   "metadata": {},
   "source": [
    "<h3> Unit Testing using Trivial Data</h3>\n",
    "\n",
    "The data below is our sample trivial data for the unit testing of our implementation. The sample data is the part of Abalone dataset. The first 200 data samples are considered as the training set and data samples from 100 to 300 are reserved for testing. Also, we consider only one attribute from the predictors (X dataset)."
   ]
  },
  {
   "cell_type": "code",
   "execution_count": 14,
   "metadata": {},
   "outputs": [
    {
     "data": {
      "text/plain": [
       "(200, 1)"
      ]
     },
     "execution_count": 14,
     "metadata": {},
     "output_type": "execute_result"
    }
   ],
   "source": [
    "\n",
    "trivial_x_train=X[0:200]\n",
    "trivial_x_train=trivial_x_train[4]\n",
    "trivial_x_train=pd.DataFrame(trivial_x_train)\n",
    "trivial_y_train=Y[0:200]\n",
    "\n",
    "\n",
    "trivial_x_test=X[100:300]\n",
    "trivial_x_test=trivial_x_test[4]\n",
    "trivial_x_test=pd.DataFrame(trivial_x_test)\n",
    "trivial_y_test=Y[100:300]\n",
    "\n",
    "\n",
    "trivial_y_test.shape"
   ]
  },
  {
   "cell_type": "markdown",
   "metadata": {},
   "source": [
    "<h3>Computation of linear kernel</h3>\n",
    "\n",
    "Formula for ridge regression: $y(x) = (K(x)^T) ((K + \\lambda * I) * t)$\n",
    "\n",
    "Linear Kernel is given by, K = x * x' -> dot product of two vectors\n",
    "\n",
    "First term: $(K(x)^T)$ - This is the dot product of X_train and X_test.\n",
    "\n",
    "Gram matrix: The kernel (K) in the second term is termed as Gram Matrix. For computation of gram matrix, we consider the dot product of the input vectors (X_train * X_train.T).\n",
    "\n",
    "$\\lambda $: is a scalar hyper parameter. This is multiplied by the identity matrix whose shape is same as the gram matrix.\n",
    "\n",
    "Then, we compute the sum of Gram Matrix and Lamda which is then multiplied with the response matrix (Y_train). This becomes our linear regression model.\n",
    "\n"
   ]
  },
  {
   "cell_type": "code",
   "execution_count": 15,
   "metadata": {},
   "outputs": [],
   "source": [
    "def computeLinearKernel(X_train, y_train,lamda):\n",
    "    \n",
    "    m,n=y_train.shape\n",
    "    betaLinearKernel=np.zeros((m,n))\n",
    "    I=(np.identity(m))\n",
    "    betaLinearKernel=np.dot(np.linalg.pinv(np.dot(X_train,np.transpose(X_train))+(lamda*I)),y_train)\n",
    "    return betaLinearKernel\n",
    "    "
   ]
  },
  {
   "cell_type": "markdown",
   "metadata": {},
   "source": [
    "<h3>Prediction</h3>\n",
    "\n",
    "Now, for the prediction, we take the dot product of first kernel and our linear regression model. This is the array of predicted values"
   ]
  },
  {
   "cell_type": "code",
   "execution_count": 20,
   "metadata": {},
   "outputs": [],
   "source": [
    "def predictWithLinearKernel(X_test,y_test,betaLinearKernel,X_train):\n",
    "    X_test_1=X_test.values\n",
    "    X_train_1=X_train.values\n",
    "    y_pred= np.dot((np.dot(X_test,X_train.T)),betaLinearKernel)\n",
    "    return y_pred"
   ]
  },
  {
   "cell_type": "markdown",
   "metadata": {},
   "source": [
    "\n",
    "Plotting the graph for trivial dataset. This is done for all the kernel implementations. Please note that the hyperparameters selected for unit testing are the best parameters we obtained for the best model for our dataset"
   ]
  },
  {
   "cell_type": "code",
   "execution_count": 21,
   "metadata": {},
   "outputs": [],
   "source": [
    "def plotGraph(trivial_x_train,trivial_y_train,trivial_x_test,y_pred,kernal_type):\n",
    "    plt.scatter(np.squeeze(np.asarray(trivial_x_train)),np.squeeze(np.asarray(trivial_y_train)))\n",
    "    plt.plot(np.squeeze(np.asarray(trivial_x_test)),np.squeeze(np.asarray(y_pred)),'r-')\n",
    "    plt.xlabel('Whole weight')\n",
    "    plt.ylabel('Predicted no of rings')\n",
    "    if(kernal_type=='Linear'):\n",
    "        plt.title('Linear Kernel')\n",
    "    if(kernal_type=='Polynomial'):\n",
    "        plt.title('Polynomial Kernel')\n",
    "    if(kernal_type=='Gaussian'):\n",
    "        plt.title('Gaussian Kernel')\n",
    "    plt.show()"
   ]
  },
  {
   "cell_type": "code",
   "execution_count": 22,
   "metadata": {},
   "outputs": [],
   "source": [
    "def plotLinearKernelGraph(trivial_x_train,trivial_y_train,trivial_x_test,trivial_y_test):\n",
    "    betaLinearKernel=computeLinearKernel(trivial_x_train,trivial_y_train,0.5)\n",
    "    y_predLin=predictWithLinearKernel(trivial_x_test,trivial_y_test,betaLinearKernel,trivial_x_train)\n",
    "    plotGraph(trivial_x_train,trivial_y_train,trivial_x_test,y_predLin,'Linear')\n",
    "    rms = sqrt(mean_squared_error(trivial_y_test, y_predLin))\n",
    "    print('RMSE for Linear Kernel with trivial data:',rms)"
   ]
  },
  {
   "cell_type": "markdown",
   "metadata": {},
   "source": [
    "<h3>Linear Kernel</h3>\n",
    "\n",
    "Ridge regression using Linear Kernel implementation is done on the trivial data and results are visualized graphically. The performance of the same is recorded- The RMSE is 4.63"
   ]
  },
  {
   "cell_type": "code",
   "execution_count": 23,
   "metadata": {},
   "outputs": [
    {
     "data": {
      "image/png": "[encoded data removed]",
      "text/plain": [
       "<Figure size 432x288 with 1 Axes>"
      ]
     },
     "metadata": {
      "needs_background": "light"
     },
     "output_type": "display_data"
    },
    {
     "name": "stdout",
     "output_type": "stream",
     "text": [
      "RMSE for Linear Kernel with trivial data: 4.628881646320758\n"
     ]
    }
   ],
   "source": [
    "plotLinearKernelGraph(trivial_x_train,trivial_y_train,trivial_x_test,trivial_y_test)"
   ]
  },
  {
   "cell_type": "markdown",
   "metadata": {},
   "source": [
    "<h3>Polynomial Kernel</h3>\n",
    "\n",
    "Ridge regression using Polynomial Kernel implementation is done on the trivial data and results are visualized graphically. The performance of the same is recorded- The RMSE is 2.678"
   ]
  },
  {
   "cell_type": "code",
   "execution_count": 26,
   "metadata": {},
   "outputs": [],
   "source": [
    "def plotPolynomialKernelGraph(trivial_x_train,trivial_y_train,trivial_x_test,trivial_y_test):\n",
    "    betaPolynomialKernel=computePolynomianKernel(trivial_x_train,trivial_y_train,1,0.01,2)\n",
    "    y_predPoly=predictWithPolynomialKernel(trivial_x_test,trivial_y_test,betaPolynomialKernel,trivial_x_train,1)\n",
    "    plotGraph(trivial_x_train,trivial_y_train,trivial_x_test,y_predPoly,'Polynomial')\n",
    "    rms = sqrt(mean_squared_error(trivial_y_test, y_predPoly))\n",
    "    print('RMSE for Polynomial Kernel with trivial data:',rms)"
   ]
  },
  {
   "cell_type": "markdown",
   "metadata": {},
   "source": [
    "<h3> Computation of Polynomial Kernel</h3>\n",
    "\n",
    "Polynomial Kernel is given by,$ K = (\\gamma *  ( x * x') + R)^M $\n",
    "\n",
    "Polynomial Kernel:$ (\\gamma * (x * x') + R)^M $-  where, x is the X_train vector matrix and x' is the X_test vector matrix.\n",
    "\n",
    "Gram matrix: The kernel (K) in the second term is termed as Gram Matrix. For computation of gram matrix, we consider the dot product of the input vectors $(\\gamma * ( X\\_train * X\\_train.T) + R ) ^ M) $. \n",
    "\n",
    "$\\gamma$: This is the scalar hyper parameter\n",
    "\n",
    "R - This is hyperparameter vector matrix whose shape is same as that of the gram matrix.\n",
    "\n",
    "$\\lambda$: is a scalar hyper parameter. This is multiplied by the identity matrix whose shape is same as the gram matrix.\n",
    "\n",
    "M- Power of the gram matrix.\n",
    "\n",
    "Then, we compute the sum of Gram Matrix and Lamda which is then multiplied with the response matrix (Y_train). This becomes our Polynomial regression model."
   ]
  },
  {
   "cell_type": "code",
   "execution_count": 33,
   "metadata": {},
   "outputs": [],
   "source": [
    "def computePolynomianKernel(X_train,y_train,gamma,lamda,power):\n",
    "    m,n=y_train.shape\n",
    "    \n",
    "    betaPolynomialKernel=np.zeros((m,n))\n",
    "    I=(np.identity(m))\n",
    "    R=np.ones((m,m))\n",
    "    dotProd=np.dot(X_train,np.transpose(X_train))\n",
    "    gammaProd=gamma*dotProd\n",
    "    RGamma=gammaProd+R\n",
    "    RGammaSquared=RGamma**power\n",
    "    lamdaI=lamda*I\n",
    "    RGammaSquaredPlus=RGammaSquared+lamdaI\n",
    "    InVprod=np.linalg.pinv(RGammaSquaredPlus)\n",
    "    betaPolynomialKernel=np.dot(InVprod,y_train)\n",
    "    return betaPolynomialKernel"
   ]
  },
  {
   "cell_type": "markdown",
   "metadata": {},
   "source": [
    "Now, for the prediction, we take the dot product of first kernel and our Polynomial regression model. This is the array of predicted values"
   ]
  },
  {
   "cell_type": "code",
   "execution_count": 38,
   "metadata": {},
   "outputs": [],
   "source": [
    "def predictWithPolynomialKernel(X_test,y_test,betaPolynomialKernel,X_train,gamma):\n",
    "    X_test_1=X_test.values\n",
    "    X_train_1=X_train.values\n",
    "    dotProd=np.dot(X_test_1,X_train_1.T)\n",
    "    R=np.ones(dotProd.shape)\n",
    "    gammaProd=gamma*dotProd\n",
    "    RGamma=gammaProd+R\n",
    "    RGammaSquared=np.multiply(RGamma,RGamma)\n",
    "    y_pred= np.dot(RGammaSquared,betaPolynomialKernel)\n",
    "    return y_pred\n",
    "    "
   ]
  },
  {
   "cell_type": "code",
   "execution_count": 39,
   "metadata": {},
   "outputs": [
    {
     "data": {
      "image/png": "[encoded data removed]",
      "text/plain": [
       "<Figure size 432x288 with 1 Axes>"
      ]
     },
     "metadata": {
      "needs_background": "light"
     },
     "output_type": "display_data"
    },
    {
     "name": "stdout",
     "output_type": "stream",
     "text": [
      "RMSE for Polynomial Kernel with trivial data: 2.67732192970615\n"
     ]
    }
   ],
   "source": [
    "plotPolynomialKernelGraph(trivial_x_train,trivial_y_train,trivial_x_test,trivial_y_test)"
   ]
  },
  {
   "cell_type": "code",
   "execution_count": null,
   "metadata": {},
   "outputs": [],
   "source": []
  }
 ],
 "metadata": {
  "kernelspec": {
   "display_name": "Python 3",
   "language": "python",
   "name": "python3"
  },
  "language_info": {
   "codemirror_mode": {
    "name": "ipython",
    "version": 3
   },
   "file_extension": ".py",
   "mimetype": "text/x-python",
   "name": "python",
   "nbconvert_exporter": "python",
   "pygments_lexer": "ipython3",
   "version": "3.8.5"
  }
 },
 "nbformat": 4,
 "nbformat_minor": 2
}
